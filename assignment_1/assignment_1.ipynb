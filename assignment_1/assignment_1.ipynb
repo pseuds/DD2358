{
 "cells": [
  {
   "cell_type": "markdown",
   "metadata": {},
   "source": [
    "### Task 1.1: Calculate the Clock Granularity of different Python Timers "
   ]
  },
  {
   "cell_type": "code",
   "execution_count": 2,
   "metadata": {},
   "outputs": [
    {
     "name": "stdout",
     "output_type": "stream",
     "text": [
      "['1.04189E-4', '6.98566E-5', '4.45604E-4', '8.53539E-5', '2.40088E-4']\n",
      "['1.99885E-7', '1.99885E-7', '1.99885E-7', '1.99885E-7', '1.99885E-7']\n",
      "['1.04448E+5', '3.74272E+5', '3.78112E+5', '3.36896E+5', '4.00128E+5']\n",
      "Task 1.1\n",
      "\n",
      "Average Clock Granularity in seconds, ranked fastest to slowest:\n",
      "1. timeit -- 1.99885E-7\n",
      "2. time   -- 1.89018E-4\n",
      "3. timeNS -- 3.18771E-4\n"
     ]
    }
   ],
   "source": [
    "from JuliaSet import checktick_time, checktick_timer, checktick_time_ns\n",
    "from decimal import Decimal\n",
    "\n",
    "runs = 5\n",
    "\n",
    "time_ls = []\n",
    "timer_ls = []\n",
    "timeNS_ls = []\n",
    "\n",
    "for _ in range(runs):\n",
    "    time_ls.append(checktick_time())\n",
    "    timer_ls.append(checktick_timer())\n",
    "    timeNS_ls.append(checktick_time_ns())\n",
    "\n",
    "print([f'{Decimal(i):.5E}' for i in time_ls])\n",
    "print([f'{Decimal(i):.5E}' for i in timer_ls])\n",
    "print([f'{Decimal(i):.5E}' for i in timeNS_ls])\n",
    "\n",
    "results_ls = [  ['time   --', Decimal(sum(time_ls)/runs)],\n",
    "                ['timeit --', Decimal(sum(timer_ls)/runs)],\n",
    "                ['timeNS --', Decimal((sum(timeNS_ls) / runs) / 1e9)] ]\n",
    "\n",
    "sorted_results = sorted(results_ls, key=lambda x: x[1])\n",
    "\n",
    "print(\"Task 1.1\")\n",
    "\n",
    "print(\"\\nAverage Clock Granularity in seconds, ranked fastest to slowest:\")\n",
    "\n",
    "print(f\"1. {sorted_results[0][0]} {sorted_results[0][1]:.5E}\")\n",
    "print(f\"2. {sorted_results[1][0]} {sorted_results[1][1]:.5E}\")\n",
    "print(f\"3. {sorted_results[2][0]} {sorted_results[2][1]:.5E}\")"
   ]
  },
  {
   "cell_type": "markdown",
   "metadata": {},
   "source": [
    "### Task 1.2: Timing the Julia set code functions\n",
    "\n",
    "We observed that the `timeit` timer has the best performance, and will be using it in our timer decorator."
   ]
  },
  {
   "cell_type": "code",
   "execution_count": 1,
   "metadata": {},
   "outputs": [
    {
     "name": "stdout",
     "output_type": "stream",
     "text": [
      "Length of x: 1000\n",
      "Total elements: 1000000\n",
      "@timeitfn: calculate_z_serial_purepython took 4.2564801999833435 seconds\n",
      "calculate_z_serial_purepython took 4.256613731384277 seconds\n",
      "@timeitfn: calc_pure_python took 4.518541399971582 seconds\n",
      "result 4.518541399971582\n",
      "result 4.2564801999833435\n"
     ]
    }
   ],
   "source": [
    "from JuliaSet import calc_pure_python, calculate_z_serial_purepython\n",
    "\n",
    "result = calc_pure_python(desired_width=1000, max_iterations=300)\n",
    "# result, time2 = calculate_z_serial_purepython(desired_width=1000, max_iterations=300)\n",
    "\n",
    "print('result', result[1])\n",
    "print('result', result[0][1])"
   ]
  },
  {
   "cell_type": "code",
   "execution_count": 3,
   "metadata": {},
   "outputs": [
    {
     "name": "stdout",
     "output_type": "stream",
     "text": [
      "Length of x: 1000\n",
      "Total elements: 1000000\n",
      "@timeitfn: calculate_z_serial_purepython took 4.441516599967144 seconds\n",
      "calculate_z_serial_purepython took 4.441745758056641 seconds\n",
      "@timeitfn: calc_pure_python took 4.729548400035128 seconds\n",
      "Length of x: 1000\n",
      "Total elements: 1000000\n",
      "@timeitfn: calculate_z_serial_purepython took 4.387952600023709 seconds\n",
      "calculate_z_serial_purepython took 4.38789439201355 seconds\n",
      "@timeitfn: calc_pure_python took 4.664508300018497 seconds\n",
      "Length of x: 1000\n",
      "Total elements: 1000000\n",
      "@timeitfn: calculate_z_serial_purepython took 4.441493700025603 seconds\n",
      "calculate_z_serial_purepython took 4.441536903381348 seconds\n",
      "@timeitfn: calc_pure_python took 4.708273000083864 seconds\n",
      "Length of x: 1000\n",
      "Total elements: 1000000\n",
      "@timeitfn: calculate_z_serial_purepython took 4.426110000000335 seconds\n",
      "calculate_z_serial_purepython took 4.426282167434692 seconds\n",
      "@timeitfn: calc_pure_python took 4.691955199930817 seconds\n",
      "Length of x: 1000\n",
      "Total elements: 1000000\n",
      "@timeitfn: calculate_z_serial_purepython took 4.293808099930175 seconds\n",
      "calculate_z_serial_purepython took 4.2934417724609375 seconds\n",
      "@timeitfn: calc_pure_python took 4.560985599993728 seconds\n"
     ]
    }
   ],
   "source": [
    "from JuliaSet import calc_pure_python\n",
    "from decimal import Decimal\n",
    "\n",
    "runs = 5\n",
    "\n",
    "calc_pure_ls = []\n",
    "calc_Zserial_ls = []\n",
    "\n",
    "for _ in range(runs):\n",
    "    result = calc_pure_python(desired_width=1000, max_iterations=300)\n",
    "    calc_pure_ls.append(result[1])\n",
    "    calc_Zserial_ls.append(result[0][1])"
   ]
  },
  {
   "cell_type": "code",
   "execution_count": 6,
   "metadata": {},
   "outputs": [
    {
     "name": "stdout",
     "output_type": "stream",
     "text": [
      "['4.72955E+0', '4.66451E+0', '4.70827E+0', '4.69196E+0', '4.56099E+0']\n",
      "['4.44152E+0', '4.38795E+0', '4.44149E+0', '4.42611E+0', '4.29381E+0']\n",
      "Task 1.2\n",
      "\n",
      "Average Time Taken in seconds:\n",
      "calc_pure_python              -- 4.67105E+0\n",
      "calculate_z_serial_purepython -- 4.39818E+0\n",
      "\n",
      "Standard Deviation of Time Taken in seconds:\n",
      "calc_pure_python              -- 6.59576E-2\n",
      "calculate_z_serial_purepython -- 6.23144E-2\n"
     ]
    }
   ],
   "source": [
    "import statistics\n",
    "\n",
    "print([f'{Decimal(i):.5E}' for i in calc_pure_ls])\n",
    "print([f'{Decimal(i):.5E}' for i in calc_Zserial_ls])\n",
    "\n",
    "results_ls = [  ['calc_pure_python              --', Decimal(sum(calc_pure_ls)/runs), Decimal(statistics.stdev(calc_pure_ls))],\n",
    "                ['calculate_z_serial_purepython --', Decimal(sum(calc_Zserial_ls)/runs), Decimal(statistics.stdev(calc_Zserial_ls))],\n",
    "             ]\n",
    "\n",
    "print(\"Task 1.2\")\n",
    "\n",
    "print(\"\\nAverage Time Taken in seconds:\")\n",
    "\n",
    "print(f\"{results_ls[0][0]} {results_ls[0][1]:.5E}\")\n",
    "print(f\"{results_ls[1][0]} {results_ls[1][1]:.5E}\")\n",
    "\n",
    "print(\"\\nStandard Deviation of Time Taken in seconds:\")\n",
    "\n",
    "print(f\"{results_ls[0][0]} {results_ls[0][2]:.5E}\")\n",
    "print(f\"{results_ls[1][0]} {results_ls[1][2]:.5E}\")"
   ]
  },
  {
   "cell_type": "markdown",
   "metadata": {},
   "source": [
    "### Task 1.3: Profile the Julia set code with cProfile and line_profiler"
   ]
  },
  {
   "cell_type": "code",
   "execution_count": null,
   "metadata": {},
   "outputs": [],
   "source": [
    "! python -m cProfile -o cprofile.stats JuliaSet_original.py"
   ]
  },
  {
   "cell_type": "code",
   "execution_count": 4,
   "metadata": {},
   "outputs": [
    {
     "name": "stdout",
     "output_type": "stream",
     "text": [
      "Fri Jan 26 21:46:05 2024    cprofile.stats\n",
      "\n",
      "         36221995 function calls in 11.719 seconds\n",
      "\n",
      "   Ordered by: cumulative time\n",
      "\n",
      "   ncalls  tottime  percall  cumtime  percall filename:lineno(function)\n",
      "        1    0.000    0.000   11.719   11.719 {built-in method builtins.exec}\n",
      "        1    0.020    0.020   11.719   11.719 JuliaSet_original.py:1(<module>)\n",
      "        1    0.477    0.477   11.700   11.700 JuliaSet_original.py:21(calc_pure_python)\n",
      "        1    8.206    8.206   11.075   11.075 JuliaSet_original.py:59(calculate_z_serial_purepython)\n",
      " 34219980    2.869    0.000    2.869    0.000 {built-in method builtins.abs}\n",
      "  2002000    0.144    0.000    0.144    0.000 {method 'append' of 'list' objects}\n",
      "        1    0.003    0.003    0.003    0.003 {built-in method builtins.sum}\n",
      "        3    0.000    0.000    0.000    0.000 {built-in method builtins.print}\n",
      "        2    0.000    0.000    0.000    0.000 {built-in method time.time}\n",
      "        4    0.000    0.000    0.000    0.000 {built-in method builtins.len}\n",
      "        1    0.000    0.000    0.000    0.000 {method 'disable' of '_lsprof.Profiler' objects}\n",
      "\n",
      "\n"
     ]
    },
    {
     "data": {
      "text/plain": [
       "<pstats.Stats at 0x196f7014250>"
      ]
     },
     "execution_count": 4,
     "metadata": {},
     "output_type": "execute_result"
    }
   ],
   "source": [
    "import pstats\n",
    "\n",
    "p = pstats.Stats('cprofile.stats')\n",
    "p.sort_stats('cumulative')\n",
    "p.print_stats()"
   ]
  },
  {
   "cell_type": "markdown",
   "metadata": {},
   "source": [
    "#### Using SnakeViz on cProfile "
   ]
  },
  {
   "cell_type": "code",
   "execution_count": 2,
   "metadata": {},
   "outputs": [
    {
     "name": "stdout",
     "output_type": "stream",
     "text": [
      "^C\n"
     ]
    }
   ],
   "source": [
    "! python -m snakeviz cprofile.stats --server"
   ]
  },
  {
   "cell_type": "markdown",
   "metadata": {},
   "source": [
    "#### Using line_profile"
   ]
  },
  {
   "cell_type": "code",
   "execution_count": 1,
   "metadata": {},
   "outputs": [
    {
     "name": "stdout",
     "output_type": "stream",
     "text": [
      "Length of x: 1000\n",
      "Total elements: 1000000\n",
      "calculate_z_serial_purepython took 62.30023002624512 seconds\n",
      "Wrote profile results to JuliaSet_profile.py.lprof\n",
      "Inspect results with:\n",
      "C:\\Users\\xinwe\\AppData\\Local\\Microsoft\\WindowsApps\\PythonSoftwareFoundation.Python.3.11_qbz5n2kfra8p0\\python.exe -m line_profiler -rmt \"JuliaSet_profile.py.lprof\"\n"
     ]
    }
   ],
   "source": [
    "! python -m kernprof -l JuliaSet_profile.py"
   ]
  },
  {
   "cell_type": "code",
   "execution_count": 5,
   "metadata": {},
   "outputs": [
    {
     "name": "stdout",
     "output_type": "stream",
     "text": [
      "Timer unit: 1e-06 s\n",
      "\n",
      "Total time: 31.43 s\n",
      "File: JuliaSet_profile.py\n",
      "Function: calc_pure_python at line 20\n",
      "\n",
      "Line #      Hits         Time  Per Hit   % Time  Line Contents\n",
      "==============================================================\n",
      "    20                                           def calc_pure_python(desired_width, max_iterations):\n",
      "    21                                               \"\"\"Create a list of complex coordinates (zs) and complex parameters (cs),\n",
      "    22                                               build Julia set\"\"\"\n",
      "    23                                               x_step = (x2 - x1) / desired_width\n",
      "    24         1          1.4      1.4      0.0      y_step = (y1 - y2) / desired_width\n",
      "    25         1          0.4      0.4      0.0      x = []\n",
      "    26         1          0.4      0.4      0.0      y = []\n",
      "    27         1          0.2      0.2      0.0      ycoord = y2\n",
      "    28         1          0.3      0.3      0.0      while ycoord > y1:\n",
      "    29      1001        330.4      0.3      0.0          y.append(ycoord)\n",
      "    30      1000        395.1      0.4      0.0          ycoord += y_step\n",
      "    31      1000        295.9      0.3      0.0      xcoord = x1\n",
      "    32         1          0.4      0.4      0.0      while xcoord < x2:\n",
      "    33      1001        317.5      0.3      0.0          x.append(xcoord)\n",
      "    34      1000        380.2      0.4      0.0          xcoord += x_step\n",
      "    35      1000        295.3      0.3      0.0      # build a list of coordinates and the initial condition for each cell.\n",
      "    36                                               # Note that our initial condition is a constant and could easily be removed,\n",
      "    37                                               # we use it to simulate a real-world scenario with several inputs to our\n",
      "    38                                               # function\n",
      "    39                                               zs = []\n",
      "    40         1          0.3      0.3      0.0      cs = []\n",
      "    41         1          0.3      0.3      0.0      for ycoord in y:\n",
      "    42      1001        355.1      0.4      0.0          for xcoord in x:\n",
      "    43   1001000     307857.2      0.3      1.0              zs.append(complex(xcoord, ycoord))\n",
      "    44   1000000     526064.8      0.5      1.7              cs.append(complex(c_real, c_imag))\n",
      "    45   1000000     546387.9      0.5      1.7  \n",
      "    46                                               print(\"Length of x:\", len(x))\n",
      "    47         1         37.9     37.9      0.0      print(\"Total elements:\", len(zs))\n",
      "    48         1          5.4      5.4      0.0      start_time = time.time()\n",
      "    49         1          2.1      2.1      0.0      output = calculate_z_serial_purepython(max_iterations, zs, cs)\n",
      "    50         1   30043976.6    3e+07     95.6      end_time = time.time()\n",
      "    51         1          3.7      3.7      0.0      secs = end_time - start_time\n",
      "    52         1          1.1      1.1      0.0      print(calculate_z_serial_purepython.__name__ + \" took\", secs, \"seconds\")\n",
      "    53         1         57.7     57.7      0.0  \n",
      "    54                                               # This sum is expected for a 1000^2 grid with 300 iterations\n",
      "    55                                               # It ensures that our code evolves exactly as we'd intended\n",
      "    56                                               assert sum(output) == 33219980\n",
      "\n"
     ]
    }
   ],
   "source": [
    "! python -m line_profiler JuliaSet_calcpure_profile.py.lprof"
   ]
  },
  {
   "cell_type": "code",
   "execution_count": 6,
   "metadata": {},
   "outputs": [
    {
     "name": "stdout",
     "output_type": "stream",
     "text": [
      "Timer unit: 1e-06 s\n",
      "\n",
      "Total time: 40.7571 s\n",
      "File: JuliaSet_profile.py\n",
      "Function: calculate_z_serial_purepython at line 58\n",
      "\n",
      "Line #      Hits         Time  Per Hit   % Time  Line Contents\n",
      "==============================================================\n",
      "    58                                           @profile\n",
      "    59                                           def calculate_z_serial_purepython(maxiter, zs, cs):\n",
      "    60                                               \"\"\"Calculate output list using Julia update rule\"\"\"\n",
      "    61         1       2352.5   2352.5      0.0      output = [0] * len(zs)\n",
      "    62   1000001     310474.7      0.3      0.8      for i in range(len(zs)):\n",
      "    63   1000000     262665.9      0.3      0.6          n = 0\n",
      "    64   1000000     321995.5      0.3      0.8          z = zs[i]\n",
      "    65   1000000     289603.2      0.3      0.7          c = cs[i]\n",
      "    66  34219980   17518099.0      0.5     43.0          while abs(z) < 2 and n < maxiter:\n",
      "    67  33219980   11745192.2      0.4     28.8              z = z * z + c\n",
      "    68  33219980    9976892.4      0.3     24.5              n += 1\n",
      "    69   1000000     329827.1      0.3      0.8          output[i] = n\n",
      "    70         1          0.5      0.5      0.0      return output\n",
      "\n"
     ]
    }
   ],
   "source": [
    "! python -m line_profiler JuliaSet_calczserial_profile.py.lprof"
   ]
  },
  {
   "cell_type": "markdown",
   "metadata": {},
   "source": [
    "#### Measure the overhead added by using cProfile and line_profiler"
   ]
  },
  {
   "cell_type": "code",
   "execution_count": 5,
   "metadata": {},
   "outputs": [
    {
     "name": "stdout",
     "output_type": "stream",
     "text": [
      "Length of x: 1000\n",
      "Total elements: 1000000\n",
      "calculate_z_serial_purepython took 4.427104234695435 seconds\n",
      "Length of x: 1000\n",
      "Total elements: 1000000\n",
      "calculate_z_serial_purepython took 4.429355144500732 seconds\n",
      "Length of x: 1000\n",
      "Total elements: 1000000\n",
      "calculate_z_serial_purepython took 4.600521087646484 seconds\n",
      "Length of x: 1000\n",
      "Total elements: 1000000\n",
      "calculate_z_serial_purepython took 4.496175050735474 seconds\n",
      "Length of x: 1000\n",
      "Total elements: 1000000\n",
      "calculate_z_serial_purepython took 4.478123426437378 seconds\n",
      "\n",
      "Timings:  [4.79772, 4.8029, 4.98193, 4.86466, 4.83735]\n",
      "Average time taken (s): 4.8569119999999995\n"
     ]
    }
   ],
   "source": [
    "from timeit import default_timer as timer\n",
    "from JuliaSet import calc_pure_python\n",
    "\n",
    "runs = 5\n",
    "results = []\n",
    "\n",
    "for _ in range(runs):\n",
    "    t1 = timer()\n",
    "    ! python JuliaSet_original.py\n",
    "    t2 = timer()\n",
    "    results.append(round(t2-t1, 5))\n",
    "\n",
    "print('\\nTimings: ', results)\n",
    "average = sum(results) / runs\n",
    "print('Average time taken (s):', average)"
   ]
  },
  {
   "cell_type": "code",
   "execution_count": 3,
   "metadata": {},
   "outputs": [
    {
     "name": "stdout",
     "output_type": "stream",
     "text": [
      "Length of x: 1000\n",
      "Total elements: 1000000\n",
      "calculate_z_serial_purepython took 11.457850456237793 seconds\n",
      "Length of x: 1000\n",
      "Total elements: 1000000\n",
      "calculate_z_serial_purepython took 11.014838933944702 seconds\n",
      "Length of x: 1000\n",
      "Total elements: 1000000\n",
      "calculate_z_serial_purepython took 11.166855812072754 seconds\n",
      "Length of x: 1000\n",
      "Total elements: 1000000\n",
      "calculate_z_serial_purepython took 11.36298155784607 seconds\n",
      "Length of x: 1000\n",
      "Total elements: 1000000\n",
      "calculate_z_serial_purepython took 10.652267694473267 seconds\n",
      "\n",
      "Timings:  [12.33468, 11.83059, 11.95928, 12.13256, 11.43716]\n",
      "Average time taken (s): 11.938854\n"
     ]
    }
   ],
   "source": [
    "from timeit import default_timer as timer\n",
    "\n",
    "runs = 5\n",
    "results = []\n",
    "\n",
    "for _ in range(runs):\n",
    "    t1 = timer()\n",
    "    ! python -m cProfile -o cprofile.stats JuliaSet_original.py\n",
    "    t2 = timer()\n",
    "    results.append(round(t2-t1, 5))\n",
    "\n",
    "print('\\nTimings: ', results)\n",
    "average = sum(results) / runs\n",
    "print('Average time taken (s):', average)"
   ]
  },
  {
   "cell_type": "code",
   "execution_count": 4,
   "metadata": {},
   "outputs": [
    {
     "name": "stdout",
     "output_type": "stream",
     "text": [
      "Length of x: 1000\n",
      "Total elements: 1000000\n",
      "calculate_z_serial_purepython took 60.13920879364014 seconds\n",
      "Wrote profile results to JuliaSet_profile.py.lprof\n",
      "Inspect results with:\n",
      "C:\\Users\\xinwe\\AppData\\Local\\Microsoft\\WindowsApps\\PythonSoftwareFoundation.Python.3.11_qbz5n2kfra8p0\\python.exe -m line_profiler -rmt \"JuliaSet_profile.py.lprof\"\n",
      "Length of x: 1000\n",
      "Total elements: 1000000\n",
      "calculate_z_serial_purepython took 58.87461280822754 seconds\n",
      "Wrote profile results to JuliaSet_profile.py.lprof\n",
      "Inspect results with:\n",
      "C:\\Users\\xinwe\\AppData\\Local\\Microsoft\\WindowsApps\\PythonSoftwareFoundation.Python.3.11_qbz5n2kfra8p0\\python.exe -m line_profiler -rmt \"JuliaSet_profile.py.lprof\"\n",
      "Length of x: 1000\n",
      "Total elements: 1000000\n",
      "calculate_z_serial_purepython took 59.95879101753235 seconds\n",
      "Wrote profile results to JuliaSet_profile.py.lprof\n",
      "Inspect results with:\n",
      "C:\\Users\\xinwe\\AppData\\Local\\Microsoft\\WindowsApps\\PythonSoftwareFoundation.Python.3.11_qbz5n2kfra8p0\\python.exe -m line_profiler -rmt \"JuliaSet_profile.py.lprof\"\n",
      "Length of x: 1000\n",
      "Total elements: 1000000\n",
      "calculate_z_serial_purepython took 59.644962787628174 seconds\n",
      "Wrote profile results to JuliaSet_profile.py.lprof\n",
      "Inspect results with:\n",
      "C:\\Users\\xinwe\\AppData\\Local\\Microsoft\\WindowsApps\\PythonSoftwareFoundation.Python.3.11_qbz5n2kfra8p0\\python.exe -m line_profiler -rmt \"JuliaSet_profile.py.lprof\"\n",
      "Length of x: 1000\n",
      "Total elements: 1000000\n",
      "calculate_z_serial_purepython took 60.448721408843994 seconds\n",
      "Wrote profile results to JuliaSet_profile.py.lprof\n",
      "Inspect results with:\n",
      "C:\\Users\\xinwe\\AppData\\Local\\Microsoft\\WindowsApps\\PythonSoftwareFoundation.Python.3.11_qbz5n2kfra8p0\\python.exe -m line_profiler -rmt \"JuliaSet_profile.py.lprof\"\n",
      "\n",
      "Timings:  [60.68388, 59.40071, 60.46658, 60.19169, 60.93535]\n",
      "Average time taken (s): 60.33564199999999\n"
     ]
    }
   ],
   "source": [
    "from timeit import default_timer as timer\n",
    "\n",
    "runs = 5\n",
    "results = []\n",
    "\n",
    "for _ in range(runs):\n",
    "    t1 = timer()\n",
    "    ! python -m kernprof -l JuliaSet_profile.py\n",
    "    t2 = timer()\n",
    "    results.append(round(t2-t1, 5))\n",
    "\n",
    "print('\\nTimings: ', results)\n",
    "average = sum(results) / runs\n",
    "print('Average time taken (s):', average)"
   ]
  },
  {
   "cell_type": "code",
   "execution_count": 5,
   "metadata": {},
   "outputs": [
    {
     "name": "stdout",
     "output_type": "stream",
     "text": [
      "Length of x: 1000\n",
      "Total elements: 1000000\n",
      "@timeitfn: calculate_z_serial_purepython took 4.195281499996781 seconds\n",
      "calculate_z_serial_purepython took 4.194920063018799 seconds\n",
      "@timeitfn: calc_pure_python took 4.47504960000515 seconds\n",
      "result ((33219980, 4.195281499996781), 4.47504960000515)\n",
      "ans 33219980\n"
     ]
    }
   ],
   "source": [
    "from JuliaSet import calc_pure_python\n",
    "result = calc_pure_python(desired_width=1000, max_iterations=300)\n",
    "print('result',result)\n",
    "ans = result[0][0]\n",
    "print('\\nans',ans)"
   ]
  }
 ],
 "metadata": {
  "kernelspec": {
   "display_name": "Python 3",
   "language": "python",
   "name": "python3"
  },
  "language_info": {
   "codemirror_mode": {
    "name": "ipython",
    "version": 3
   },
   "file_extension": ".py",
   "mimetype": "text/x-python",
   "name": "python",
   "nbconvert_exporter": "python",
   "pygments_lexer": "ipython3",
   "version": "3.11.7"
  }
 },
 "nbformat": 4,
 "nbformat_minor": 2
}
